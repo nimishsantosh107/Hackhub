{
 "cells": [
  {
   "cell_type": "code",
   "execution_count": 1,
   "metadata": {},
   "outputs": [],
   "source": [
    "import pandas as pd\n",
    "import numpy as np\n",
    "import seaborn as sns\n",
    "import matplotlib.pyplot as plt\n",
    "pd.set_option('display.max_columns', 30)\n",
    "%matplotlib inline\n",
    "from sklearn.svm import SVC\n",
    "model = SVC(cache_size=2000)\n",
    "from sklearn.metrics import classification_report,confusion_matrix\n",
    "from sklearn.model_selection import GridSearchCV\n",
    "from sklearn.model_selection import train_test_split"
   ]
  },
  {
   "cell_type": "code",
   "execution_count": 2,
   "metadata": {},
   "outputs": [],
   "source": [
    "df = pd.read_csv('all_cleaned.csv',index_col=False)\n",
    "df.drop('Unnamed: 0',axis=1,inplace=True)\n",
    "df.drop('building_id',axis=1,inplace=True)"
   ]
  },
  {
   "cell_type": "code",
   "execution_count": 3,
   "metadata": {},
   "outputs": [
    {
     "data": {
      "text/html": [
       "<div>\n",
       "<style scoped>\n",
       "    .dataframe tbody tr th:only-of-type {\n",
       "        vertical-align: middle;\n",
       "    }\n",
       "\n",
       "    .dataframe tbody tr th {\n",
       "        vertical-align: top;\n",
       "    }\n",
       "\n",
       "    .dataframe thead th {\n",
       "        text-align: right;\n",
       "    }\n",
       "</style>\n",
       "<table border=\"1\" class=\"dataframe\">\n",
       "  <thead>\n",
       "    <tr style=\"text-align: right;\">\n",
       "      <th></th>\n",
       "      <th>age_building</th>\n",
       "      <th>count_floors_pre_eq</th>\n",
       "      <th>height_ft_pre_eq</th>\n",
       "      <th>plinth_area_sq_ft</th>\n",
       "      <th>land_surface_condition</th>\n",
       "      <th>foundation_type</th>\n",
       "      <th>roof_type</th>\n",
       "      <th>ground_floor_type</th>\n",
       "      <th>other_floor_type</th>\n",
       "      <th>position</th>\n",
       "      <th>plan_configuration</th>\n",
       "      <th>has_superstructure_adobe_mud</th>\n",
       "      <th>has_superstructure_mud_mortar_stone</th>\n",
       "      <th>has_superstructure_stone_flag</th>\n",
       "      <th>has_superstructure_cement_mortar_stone</th>\n",
       "      <th>...</th>\n",
       "      <th>has_superstructure_cement_mortar_brick</th>\n",
       "      <th>has_superstructure_timber</th>\n",
       "      <th>has_superstructure_bamboo</th>\n",
       "      <th>has_superstructure_rc_non_engineered</th>\n",
       "      <th>has_superstructure_rc_engineered</th>\n",
       "      <th>condition_post_eq</th>\n",
       "      <th>has_geotechnical_risk</th>\n",
       "      <th>has_geotechnical_risk_fault_crack</th>\n",
       "      <th>has_geotechnical_risk_flood</th>\n",
       "      <th>has_geotechnical_risk_land_settlement</th>\n",
       "      <th>has_geotechnical_risk_landslide</th>\n",
       "      <th>has_geotechnical_risk_liquefaction</th>\n",
       "      <th>has_geotechnical_risk_other</th>\n",
       "      <th>has_geotechnical_risk_rock_fall</th>\n",
       "      <th>damage_grade</th>\n",
       "    </tr>\n",
       "  </thead>\n",
       "  <tbody>\n",
       "    <tr>\n",
       "      <th>0</th>\n",
       "      <td>32</td>\n",
       "      <td>1</td>\n",
       "      <td>9</td>\n",
       "      <td>324</td>\n",
       "      <td>1</td>\n",
       "      <td>2</td>\n",
       "      <td>1</td>\n",
       "      <td>2</td>\n",
       "      <td>3</td>\n",
       "      <td>0</td>\n",
       "      <td>0</td>\n",
       "      <td>0</td>\n",
       "      <td>1</td>\n",
       "      <td>0</td>\n",
       "      <td>0</td>\n",
       "      <td>...</td>\n",
       "      <td>0</td>\n",
       "      <td>1</td>\n",
       "      <td>1</td>\n",
       "      <td>0</td>\n",
       "      <td>0</td>\n",
       "      <td>1</td>\n",
       "      <td>0</td>\n",
       "      <td>0</td>\n",
       "      <td>0</td>\n",
       "      <td>0</td>\n",
       "      <td>0</td>\n",
       "      <td>0</td>\n",
       "      <td>0</td>\n",
       "      <td>0</td>\n",
       "      <td>1</td>\n",
       "    </tr>\n",
       "    <tr>\n",
       "      <th>1</th>\n",
       "      <td>34</td>\n",
       "      <td>2</td>\n",
       "      <td>18</td>\n",
       "      <td>456</td>\n",
       "      <td>1</td>\n",
       "      <td>2</td>\n",
       "      <td>1</td>\n",
       "      <td>2</td>\n",
       "      <td>2</td>\n",
       "      <td>0</td>\n",
       "      <td>0</td>\n",
       "      <td>0</td>\n",
       "      <td>1</td>\n",
       "      <td>0</td>\n",
       "      <td>0</td>\n",
       "      <td>...</td>\n",
       "      <td>0</td>\n",
       "      <td>1</td>\n",
       "      <td>1</td>\n",
       "      <td>0</td>\n",
       "      <td>0</td>\n",
       "      <td>1</td>\n",
       "      <td>0</td>\n",
       "      <td>0</td>\n",
       "      <td>0</td>\n",
       "      <td>0</td>\n",
       "      <td>0</td>\n",
       "      <td>0</td>\n",
       "      <td>0</td>\n",
       "      <td>0</td>\n",
       "      <td>2</td>\n",
       "    </tr>\n",
       "    <tr>\n",
       "      <th>2</th>\n",
       "      <td>20</td>\n",
       "      <td>2</td>\n",
       "      <td>18</td>\n",
       "      <td>452</td>\n",
       "      <td>1</td>\n",
       "      <td>2</td>\n",
       "      <td>1</td>\n",
       "      <td>2</td>\n",
       "      <td>2</td>\n",
       "      <td>0</td>\n",
       "      <td>0</td>\n",
       "      <td>0</td>\n",
       "      <td>1</td>\n",
       "      <td>0</td>\n",
       "      <td>0</td>\n",
       "      <td>...</td>\n",
       "      <td>0</td>\n",
       "      <td>1</td>\n",
       "      <td>1</td>\n",
       "      <td>0</td>\n",
       "      <td>0</td>\n",
       "      <td>1</td>\n",
       "      <td>0</td>\n",
       "      <td>0</td>\n",
       "      <td>0</td>\n",
       "      <td>0</td>\n",
       "      <td>0</td>\n",
       "      <td>0</td>\n",
       "      <td>0</td>\n",
       "      <td>0</td>\n",
       "      <td>2</td>\n",
       "    </tr>\n",
       "    <tr>\n",
       "      <th>3</th>\n",
       "      <td>44</td>\n",
       "      <td>1</td>\n",
       "      <td>9</td>\n",
       "      <td>546</td>\n",
       "      <td>1</td>\n",
       "      <td>2</td>\n",
       "      <td>1</td>\n",
       "      <td>2</td>\n",
       "      <td>3</td>\n",
       "      <td>0</td>\n",
       "      <td>0</td>\n",
       "      <td>0</td>\n",
       "      <td>1</td>\n",
       "      <td>0</td>\n",
       "      <td>0</td>\n",
       "      <td>...</td>\n",
       "      <td>0</td>\n",
       "      <td>1</td>\n",
       "      <td>1</td>\n",
       "      <td>0</td>\n",
       "      <td>0</td>\n",
       "      <td>6</td>\n",
       "      <td>0</td>\n",
       "      <td>0</td>\n",
       "      <td>0</td>\n",
       "      <td>0</td>\n",
       "      <td>0</td>\n",
       "      <td>0</td>\n",
       "      <td>0</td>\n",
       "      <td>0</td>\n",
       "      <td>3</td>\n",
       "    </tr>\n",
       "    <tr>\n",
       "      <th>4</th>\n",
       "      <td>25</td>\n",
       "      <td>1</td>\n",
       "      <td>9</td>\n",
       "      <td>324</td>\n",
       "      <td>1</td>\n",
       "      <td>2</td>\n",
       "      <td>1</td>\n",
       "      <td>2</td>\n",
       "      <td>3</td>\n",
       "      <td>0</td>\n",
       "      <td>0</td>\n",
       "      <td>0</td>\n",
       "      <td>1</td>\n",
       "      <td>0</td>\n",
       "      <td>0</td>\n",
       "      <td>...</td>\n",
       "      <td>0</td>\n",
       "      <td>1</td>\n",
       "      <td>1</td>\n",
       "      <td>0</td>\n",
       "      <td>0</td>\n",
       "      <td>6</td>\n",
       "      <td>0</td>\n",
       "      <td>0</td>\n",
       "      <td>0</td>\n",
       "      <td>0</td>\n",
       "      <td>0</td>\n",
       "      <td>0</td>\n",
       "      <td>0</td>\n",
       "      <td>0</td>\n",
       "      <td>2</td>\n",
       "    </tr>\n",
       "  </tbody>\n",
       "</table>\n",
       "<p>5 rows × 31 columns</p>\n",
       "</div>"
      ],
      "text/plain": [
       "   age_building  count_floors_pre_eq  height_ft_pre_eq  plinth_area_sq_ft  \\\n",
       "0            32                    1                 9                324   \n",
       "1            34                    2                18                456   \n",
       "2            20                    2                18                452   \n",
       "3            44                    1                 9                546   \n",
       "4            25                    1                 9                324   \n",
       "\n",
       "   land_surface_condition  foundation_type  roof_type  ground_floor_type  \\\n",
       "0                       1                2          1                  2   \n",
       "1                       1                2          1                  2   \n",
       "2                       1                2          1                  2   \n",
       "3                       1                2          1                  2   \n",
       "4                       1                2          1                  2   \n",
       "\n",
       "   other_floor_type  position  plan_configuration  \\\n",
       "0                 3         0                   0   \n",
       "1                 2         0                   0   \n",
       "2                 2         0                   0   \n",
       "3                 3         0                   0   \n",
       "4                 3         0                   0   \n",
       "\n",
       "   has_superstructure_adobe_mud  has_superstructure_mud_mortar_stone  \\\n",
       "0                             0                                    1   \n",
       "1                             0                                    1   \n",
       "2                             0                                    1   \n",
       "3                             0                                    1   \n",
       "4                             0                                    1   \n",
       "\n",
       "   has_superstructure_stone_flag  has_superstructure_cement_mortar_stone  \\\n",
       "0                              0                                       0   \n",
       "1                              0                                       0   \n",
       "2                              0                                       0   \n",
       "3                              0                                       0   \n",
       "4                              0                                       0   \n",
       "\n",
       "       ...       has_superstructure_cement_mortar_brick  \\\n",
       "0      ...                                            0   \n",
       "1      ...                                            0   \n",
       "2      ...                                            0   \n",
       "3      ...                                            0   \n",
       "4      ...                                            0   \n",
       "\n",
       "   has_superstructure_timber  has_superstructure_bamboo  \\\n",
       "0                          1                          1   \n",
       "1                          1                          1   \n",
       "2                          1                          1   \n",
       "3                          1                          1   \n",
       "4                          1                          1   \n",
       "\n",
       "   has_superstructure_rc_non_engineered  has_superstructure_rc_engineered  \\\n",
       "0                                     0                                 0   \n",
       "1                                     0                                 0   \n",
       "2                                     0                                 0   \n",
       "3                                     0                                 0   \n",
       "4                                     0                                 0   \n",
       "\n",
       "   condition_post_eq  has_geotechnical_risk  \\\n",
       "0                  1                      0   \n",
       "1                  1                      0   \n",
       "2                  1                      0   \n",
       "3                  6                      0   \n",
       "4                  6                      0   \n",
       "\n",
       "   has_geotechnical_risk_fault_crack  has_geotechnical_risk_flood  \\\n",
       "0                                  0                            0   \n",
       "1                                  0                            0   \n",
       "2                                  0                            0   \n",
       "3                                  0                            0   \n",
       "4                                  0                            0   \n",
       "\n",
       "   has_geotechnical_risk_land_settlement  has_geotechnical_risk_landslide  \\\n",
       "0                                      0                                0   \n",
       "1                                      0                                0   \n",
       "2                                      0                                0   \n",
       "3                                      0                                0   \n",
       "4                                      0                                0   \n",
       "\n",
       "   has_geotechnical_risk_liquefaction  has_geotechnical_risk_other  \\\n",
       "0                                   0                            0   \n",
       "1                                   0                            0   \n",
       "2                                   0                            0   \n",
       "3                                   0                            0   \n",
       "4                                   0                            0   \n",
       "\n",
       "   has_geotechnical_risk_rock_fall  damage_grade  \n",
       "0                                0             1  \n",
       "1                                0             2  \n",
       "2                                0             2  \n",
       "3                                0             3  \n",
       "4                                0             2  \n",
       "\n",
       "[5 rows x 31 columns]"
      ]
     },
     "execution_count": 3,
     "metadata": {},
     "output_type": "execute_result"
    }
   ],
   "source": [
    "df.head()"
   ]
  },
  {
   "cell_type": "code",
   "execution_count": 4,
   "metadata": {},
   "outputs": [
    {
     "name": "stdout",
     "output_type": "stream",
     "text": [
      "<class 'pandas.core.frame.DataFrame'>\n",
      "RangeIndex: 598344 entries, 0 to 598343\n",
      "Data columns (total 31 columns):\n",
      "age_building                              598344 non-null int64\n",
      "count_floors_pre_eq                       598344 non-null int64\n",
      "height_ft_pre_eq                          598344 non-null int64\n",
      "plinth_area_sq_ft                         598344 non-null int64\n",
      "land_surface_condition                    598344 non-null int64\n",
      "foundation_type                           598344 non-null int64\n",
      "roof_type                                 598344 non-null int64\n",
      "ground_floor_type                         598344 non-null int64\n",
      "other_floor_type                          598344 non-null int64\n",
      "position                                  598344 non-null int64\n",
      "plan_configuration                        598344 non-null int64\n",
      "has_superstructure_adobe_mud              598344 non-null int64\n",
      "has_superstructure_mud_mortar_stone       598344 non-null int64\n",
      "has_superstructure_stone_flag             598344 non-null int64\n",
      "has_superstructure_cement_mortar_stone    598344 non-null int64\n",
      "has_superstructure_mud_mortar_brick       598344 non-null int64\n",
      "has_superstructure_cement_mortar_brick    598344 non-null int64\n",
      "has_superstructure_timber                 598344 non-null int64\n",
      "has_superstructure_bamboo                 598344 non-null int64\n",
      "has_superstructure_rc_non_engineered      598344 non-null int64\n",
      "has_superstructure_rc_engineered          598344 non-null int64\n",
      "condition_post_eq                         598344 non-null int64\n",
      "has_geotechnical_risk                     598344 non-null int64\n",
      "has_geotechnical_risk_fault_crack         598344 non-null int64\n",
      "has_geotechnical_risk_flood               598344 non-null int64\n",
      "has_geotechnical_risk_land_settlement     598344 non-null int64\n",
      "has_geotechnical_risk_landslide           598344 non-null int64\n",
      "has_geotechnical_risk_liquefaction        598344 non-null int64\n",
      "has_geotechnical_risk_other               598344 non-null int64\n",
      "has_geotechnical_risk_rock_fall           598344 non-null int64\n",
      "damage_grade                              598344 non-null int64\n",
      "dtypes: int64(31)\n",
      "memory usage: 141.5 MB\n"
     ]
    }
   ],
   "source": [
    "df.info()"
   ]
  },
  {
   "cell_type": "markdown",
   "metadata": {},
   "source": [
    "### SPLIT"
   ]
  },
  {
   "cell_type": "code",
   "execution_count": 5,
   "metadata": {},
   "outputs": [],
   "source": [
    "X = df.drop('damage_grade',axis=1)\n",
    "y = df['damage_grade']"
   ]
  },
  {
   "cell_type": "code",
   "execution_count": 6,
   "metadata": {},
   "outputs": [],
   "source": [
    "X1,_, y1,_ = train_test_split(X ,y , test_size=0.95)"
   ]
  },
  {
   "cell_type": "code",
   "execution_count": 7,
   "metadata": {},
   "outputs": [
    {
     "name": "stdout",
     "output_type": "stream",
     "text": [
      "<class 'pandas.core.frame.DataFrame'>\n",
      "Int64Index: 29917 entries, 46777 to 230600\n",
      "Data columns (total 30 columns):\n",
      "age_building                              29917 non-null int64\n",
      "count_floors_pre_eq                       29917 non-null int64\n",
      "height_ft_pre_eq                          29917 non-null int64\n",
      "plinth_area_sq_ft                         29917 non-null int64\n",
      "land_surface_condition                    29917 non-null int64\n",
      "foundation_type                           29917 non-null int64\n",
      "roof_type                                 29917 non-null int64\n",
      "ground_floor_type                         29917 non-null int64\n",
      "other_floor_type                          29917 non-null int64\n",
      "position                                  29917 non-null int64\n",
      "plan_configuration                        29917 non-null int64\n",
      "has_superstructure_adobe_mud              29917 non-null int64\n",
      "has_superstructure_mud_mortar_stone       29917 non-null int64\n",
      "has_superstructure_stone_flag             29917 non-null int64\n",
      "has_superstructure_cement_mortar_stone    29917 non-null int64\n",
      "has_superstructure_mud_mortar_brick       29917 non-null int64\n",
      "has_superstructure_cement_mortar_brick    29917 non-null int64\n",
      "has_superstructure_timber                 29917 non-null int64\n",
      "has_superstructure_bamboo                 29917 non-null int64\n",
      "has_superstructure_rc_non_engineered      29917 non-null int64\n",
      "has_superstructure_rc_engineered          29917 non-null int64\n",
      "condition_post_eq                         29917 non-null int64\n",
      "has_geotechnical_risk                     29917 non-null int64\n",
      "has_geotechnical_risk_fault_crack         29917 non-null int64\n",
      "has_geotechnical_risk_flood               29917 non-null int64\n",
      "has_geotechnical_risk_land_settlement     29917 non-null int64\n",
      "has_geotechnical_risk_landslide           29917 non-null int64\n",
      "has_geotechnical_risk_liquefaction        29917 non-null int64\n",
      "has_geotechnical_risk_other               29917 non-null int64\n",
      "has_geotechnical_risk_rock_fall           29917 non-null int64\n",
      "dtypes: int64(30)\n",
      "memory usage: 7.1 MB\n"
     ]
    }
   ],
   "source": [
    "X1.info()"
   ]
  },
  {
   "cell_type": "markdown",
   "metadata": {},
   "source": [
    "### FURTHER SPLIT"
   ]
  },
  {
   "cell_type": "code",
   "execution_count": 8,
   "metadata": {},
   "outputs": [],
   "source": [
    "X_train , X_test , y_train, y_test = train_test_split(X1, y1, test_size=0.3)"
   ]
  },
  {
   "cell_type": "code",
   "execution_count": 9,
   "metadata": {},
   "outputs": [
    {
     "name": "stdout",
     "output_type": "stream",
     "text": [
      "<class 'pandas.core.frame.DataFrame'>\n",
      "Int64Index: 20941 entries, 79371 to 493682\n",
      "Data columns (total 30 columns):\n",
      "age_building                              20941 non-null int64\n",
      "count_floors_pre_eq                       20941 non-null int64\n",
      "height_ft_pre_eq                          20941 non-null int64\n",
      "plinth_area_sq_ft                         20941 non-null int64\n",
      "land_surface_condition                    20941 non-null int64\n",
      "foundation_type                           20941 non-null int64\n",
      "roof_type                                 20941 non-null int64\n",
      "ground_floor_type                         20941 non-null int64\n",
      "other_floor_type                          20941 non-null int64\n",
      "position                                  20941 non-null int64\n",
      "plan_configuration                        20941 non-null int64\n",
      "has_superstructure_adobe_mud              20941 non-null int64\n",
      "has_superstructure_mud_mortar_stone       20941 non-null int64\n",
      "has_superstructure_stone_flag             20941 non-null int64\n",
      "has_superstructure_cement_mortar_stone    20941 non-null int64\n",
      "has_superstructure_mud_mortar_brick       20941 non-null int64\n",
      "has_superstructure_cement_mortar_brick    20941 non-null int64\n",
      "has_superstructure_timber                 20941 non-null int64\n",
      "has_superstructure_bamboo                 20941 non-null int64\n",
      "has_superstructure_rc_non_engineered      20941 non-null int64\n",
      "has_superstructure_rc_engineered          20941 non-null int64\n",
      "condition_post_eq                         20941 non-null int64\n",
      "has_geotechnical_risk                     20941 non-null int64\n",
      "has_geotechnical_risk_fault_crack         20941 non-null int64\n",
      "has_geotechnical_risk_flood               20941 non-null int64\n",
      "has_geotechnical_risk_land_settlement     20941 non-null int64\n",
      "has_geotechnical_risk_landslide           20941 non-null int64\n",
      "has_geotechnical_risk_liquefaction        20941 non-null int64\n",
      "has_geotechnical_risk_other               20941 non-null int64\n",
      "has_geotechnical_risk_rock_fall           20941 non-null int64\n",
      "dtypes: int64(30)\n",
      "memory usage: 5.0 MB\n"
     ]
    }
   ],
   "source": [
    "X_train.info()"
   ]
  },
  {
   "cell_type": "markdown",
   "metadata": {},
   "source": [
    "### TRAIN"
   ]
  },
  {
   "cell_type": "code",
   "execution_count": 10,
   "metadata": {},
   "outputs": [],
   "source": [
    "#model.fit(X_train,y_train)"
   ]
  },
  {
   "cell_type": "markdown",
   "metadata": {},
   "source": [
    "### EVALUATE"
   ]
  },
  {
   "cell_type": "code",
   "execution_count": 11,
   "metadata": {},
   "outputs": [],
   "source": [
    "#predictions = model.predict(X_test)"
   ]
  },
  {
   "cell_type": "code",
   "execution_count": 12,
   "metadata": {},
   "outputs": [],
   "source": [
    "#print(classification_report(y_test,predictions))"
   ]
  },
  {
   "cell_type": "markdown",
   "metadata": {},
   "source": [
    "### GRID SEARCH"
   ]
  },
  {
   "cell_type": "code",
   "execution_count": 13,
   "metadata": {},
   "outputs": [],
   "source": [
    "param_grid = {'C': [1, 10], 'gamma': [0.0001], 'kernel': ['rbf']} "
   ]
  },
  {
   "cell_type": "code",
   "execution_count": 14,
   "metadata": {},
   "outputs": [],
   "source": [
    "grid = GridSearchCV(SVC(cache_size=2000),param_grid,refit=True,verbose=3) "
   ]
  },
  {
   "cell_type": "code",
   "execution_count": null,
   "metadata": {},
   "outputs": [
    {
     "name": "stderr",
     "output_type": "stream",
     "text": [
      "/Users/nimish/anaconda3/lib/python3.7/site-packages/sklearn/model_selection/_split.py:2053: FutureWarning: You should specify a value for 'cv' instead of relying on the default value. The default value will change from 3 to 5 in version 0.22.\n",
      "  warnings.warn(CV_WARNING, FutureWarning)\n",
      "[Parallel(n_jobs=1)]: Using backend SequentialBackend with 1 concurrent workers.\n"
     ]
    },
    {
     "name": "stdout",
     "output_type": "stream",
     "text": [
      "Fitting 3 folds for each of 2 candidates, totalling 6 fits\n",
      "[CV] C=1, gamma=0.01, kernel=rbf .....................................\n",
      "[CV]  C=1, gamma=0.01, kernel=rbf, score=0.47041971064317434, total=  36.1s\n",
      "[CV] C=1, gamma=0.01, kernel=rbf .....................................\n"
     ]
    },
    {
     "name": "stderr",
     "output_type": "stream",
     "text": [
      "[Parallel(n_jobs=1)]: Done   1 out of   1 | elapsed:   46.4s remaining:    0.0s\n"
     ]
    },
    {
     "name": "stdout",
     "output_type": "stream",
     "text": [
      "[CV]  C=1, gamma=0.01, kernel=rbf, score=0.4731413837559089, total=  34.1s\n",
      "[CV] C=1, gamma=0.01, kernel=rbf .....................................\n"
     ]
    },
    {
     "name": "stderr",
     "output_type": "stream",
     "text": [
      "[Parallel(n_jobs=1)]: Done   2 out of   2 | elapsed:  1.5min remaining:    0.0s\n"
     ]
    }
   ],
   "source": [
    "grid.fit(X_train,y_train)"
   ]
  },
  {
   "cell_type": "code",
   "execution_count": null,
   "metadata": {},
   "outputs": [],
   "source": []
  }
 ],
 "metadata": {
  "kernelspec": {
   "display_name": "Python 3",
   "language": "python",
   "name": "python3"
  },
  "language_info": {
   "codemirror_mode": {
    "name": "ipython",
    "version": 3
   },
   "file_extension": ".py",
   "mimetype": "text/x-python",
   "name": "python",
   "nbconvert_exporter": "python",
   "pygments_lexer": "ipython3",
   "version": "3.7.1"
  }
 },
 "nbformat": 4,
 "nbformat_minor": 2
}
